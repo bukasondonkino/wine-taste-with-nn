{
 "cells": [
  {
   "cell_type": "code",
   "execution_count": 1,
   "id": "eabbff00",
   "metadata": {},
   "outputs": [],
   "source": [
    "import numpy as np\n",
    "import pandas as pd\n",
    "import matplotlib.pyplot as plt\n",
    "import seaborn as sns\n",
    "import tensorflow as tf\n",
    "%matplotlib inline"
   ]
  },
  {
   "cell_type": "code",
   "execution_count": 2,
   "id": "95254b12",
   "metadata": {},
   "outputs": [],
   "source": [
    "wineData = pd.read_csv(\"wineQualityN.csv\")"
   ]
  },
  {
   "cell_type": "code",
   "execution_count": 3,
   "id": "4f54e55e",
   "metadata": {},
   "outputs": [
    {
     "data": {
      "text/html": [
       "<div>\n",
       "<style scoped>\n",
       "    .dataframe tbody tr th:only-of-type {\n",
       "        vertical-align: middle;\n",
       "    }\n",
       "\n",
       "    .dataframe tbody tr th {\n",
       "        vertical-align: top;\n",
       "    }\n",
       "\n",
       "    .dataframe thead th {\n",
       "        text-align: right;\n",
       "    }\n",
       "</style>\n",
       "<table border=\"1\" class=\"dataframe\">\n",
       "  <thead>\n",
       "    <tr style=\"text-align: right;\">\n",
       "      <th></th>\n",
       "      <th>type</th>\n",
       "      <th>fixed acidity</th>\n",
       "      <th>volatile acidity</th>\n",
       "      <th>citric acid</th>\n",
       "      <th>residual sugar</th>\n",
       "      <th>chlorides</th>\n",
       "      <th>free sulfur dioxide</th>\n",
       "      <th>total sulfur dioxide</th>\n",
       "      <th>density</th>\n",
       "      <th>pH</th>\n",
       "      <th>sulphates</th>\n",
       "      <th>alcohol</th>\n",
       "      <th>quality</th>\n",
       "    </tr>\n",
       "  </thead>\n",
       "  <tbody>\n",
       "    <tr>\n",
       "      <th>0</th>\n",
       "      <td>white</td>\n",
       "      <td>7.0</td>\n",
       "      <td>0.27</td>\n",
       "      <td>0.36</td>\n",
       "      <td>20.7</td>\n",
       "      <td>0.045</td>\n",
       "      <td>45.0</td>\n",
       "      <td>170.0</td>\n",
       "      <td>1.0010</td>\n",
       "      <td>3.00</td>\n",
       "      <td>0.45</td>\n",
       "      <td>8.8</td>\n",
       "      <td>6</td>\n",
       "    </tr>\n",
       "    <tr>\n",
       "      <th>1</th>\n",
       "      <td>white</td>\n",
       "      <td>6.3</td>\n",
       "      <td>0.30</td>\n",
       "      <td>0.34</td>\n",
       "      <td>1.6</td>\n",
       "      <td>0.049</td>\n",
       "      <td>14.0</td>\n",
       "      <td>132.0</td>\n",
       "      <td>0.9940</td>\n",
       "      <td>3.30</td>\n",
       "      <td>0.49</td>\n",
       "      <td>9.5</td>\n",
       "      <td>6</td>\n",
       "    </tr>\n",
       "    <tr>\n",
       "      <th>2</th>\n",
       "      <td>white</td>\n",
       "      <td>8.1</td>\n",
       "      <td>0.28</td>\n",
       "      <td>0.40</td>\n",
       "      <td>6.9</td>\n",
       "      <td>0.050</td>\n",
       "      <td>30.0</td>\n",
       "      <td>97.0</td>\n",
       "      <td>0.9951</td>\n",
       "      <td>3.26</td>\n",
       "      <td>0.44</td>\n",
       "      <td>10.1</td>\n",
       "      <td>6</td>\n",
       "    </tr>\n",
       "    <tr>\n",
       "      <th>3</th>\n",
       "      <td>white</td>\n",
       "      <td>7.2</td>\n",
       "      <td>0.23</td>\n",
       "      <td>0.32</td>\n",
       "      <td>8.5</td>\n",
       "      <td>0.058</td>\n",
       "      <td>47.0</td>\n",
       "      <td>186.0</td>\n",
       "      <td>0.9956</td>\n",
       "      <td>3.19</td>\n",
       "      <td>0.40</td>\n",
       "      <td>9.9</td>\n",
       "      <td>6</td>\n",
       "    </tr>\n",
       "    <tr>\n",
       "      <th>4</th>\n",
       "      <td>white</td>\n",
       "      <td>7.2</td>\n",
       "      <td>0.23</td>\n",
       "      <td>0.32</td>\n",
       "      <td>8.5</td>\n",
       "      <td>0.058</td>\n",
       "      <td>47.0</td>\n",
       "      <td>186.0</td>\n",
       "      <td>0.9956</td>\n",
       "      <td>3.19</td>\n",
       "      <td>0.40</td>\n",
       "      <td>9.9</td>\n",
       "      <td>6</td>\n",
       "    </tr>\n",
       "  </tbody>\n",
       "</table>\n",
       "</div>"
      ],
      "text/plain": [
       "    type  fixed acidity  volatile acidity  citric acid  residual sugar  \\\n",
       "0  white            7.0              0.27         0.36            20.7   \n",
       "1  white            6.3              0.30         0.34             1.6   \n",
       "2  white            8.1              0.28         0.40             6.9   \n",
       "3  white            7.2              0.23         0.32             8.5   \n",
       "4  white            7.2              0.23         0.32             8.5   \n",
       "\n",
       "   chlorides  free sulfur dioxide  total sulfur dioxide  density    pH  \\\n",
       "0      0.045                 45.0                 170.0   1.0010  3.00   \n",
       "1      0.049                 14.0                 132.0   0.9940  3.30   \n",
       "2      0.050                 30.0                  97.0   0.9951  3.26   \n",
       "3      0.058                 47.0                 186.0   0.9956  3.19   \n",
       "4      0.058                 47.0                 186.0   0.9956  3.19   \n",
       "\n",
       "   sulphates  alcohol  quality  \n",
       "0       0.45      8.8        6  \n",
       "1       0.49      9.5        6  \n",
       "2       0.44     10.1        6  \n",
       "3       0.40      9.9        6  \n",
       "4       0.40      9.9        6  "
      ]
     },
     "execution_count": 3,
     "metadata": {},
     "output_type": "execute_result"
    }
   ],
   "source": [
    "wineData.head()"
   ]
  },
  {
   "cell_type": "markdown",
   "id": "bc948088",
   "metadata": {},
   "source": [
    "### Predicting the quality of the wine from the given data"
   ]
  },
  {
   "cell_type": "markdown",
   "id": "0d2ed42c",
   "metadata": {},
   "source": [
    "##### pre-processing data"
   ]
  },
  {
   "cell_type": "code",
   "execution_count": 19,
   "id": "76b24c8c",
   "metadata": {},
   "outputs": [
    {
     "data": {
      "text/plain": [
       "type                     0\n",
       "fixed acidity           10\n",
       "volatile acidity         8\n",
       "citric acid              3\n",
       "residual sugar           2\n",
       "chlorides                2\n",
       "free sulfur dioxide      0\n",
       "total sulfur dioxide     0\n",
       "density                  0\n",
       "pH                       9\n",
       "sulphates                4\n",
       "alcohol                  0\n",
       "quality                  0\n",
       "dtype: int64"
      ]
     },
     "execution_count": 19,
     "metadata": {},
     "output_type": "execute_result"
    }
   ],
   "source": [
    "wineData.isna().sum()"
   ]
  },
  {
   "cell_type": "code",
   "execution_count": 20,
   "id": "4250ef9f",
   "metadata": {},
   "outputs": [],
   "source": [
    "wineData.dropna(inplace = True)"
   ]
  },
  {
   "cell_type": "code",
   "execution_count": 21,
   "id": "9bec7055",
   "metadata": {},
   "outputs": [
    {
     "data": {
      "text/plain": [
       "array(['white', 'red'], dtype=object)"
      ]
     },
     "execution_count": 21,
     "metadata": {},
     "output_type": "execute_result"
    }
   ],
   "source": [
    "wineData[\"type\"].unique()"
   ]
  },
  {
   "cell_type": "code",
   "execution_count": 32,
   "id": "8a8cda68",
   "metadata": {},
   "outputs": [],
   "source": [
    "from sklearn.preprocessing import LabelEncoder, OneHotEncoder, StandardScaler\n",
    "from sklearn.compose import ColumnTransformer\n"
   ]
  },
  {
   "cell_type": "code",
   "execution_count": 33,
   "id": "941e8e0d",
   "metadata": {},
   "outputs": [],
   "source": [
    "wineData.loc[wineData[\"quality\"] <= 5, \"quality\" ] = 0\n",
    "wineData.loc[wineData[\"quality\"] >= 6, \"quality\" ] = 1"
   ]
  },
  {
   "cell_type": "code",
   "execution_count": 34,
   "id": "2d1be079",
   "metadata": {},
   "outputs": [],
   "source": [
    "X = wineData.drop(\"quality\", axis = 1).values\n",
    "y = wineData[\"quality\"].values"
   ]
  },
  {
   "cell_type": "code",
   "execution_count": 35,
   "id": "cd357557",
   "metadata": {},
   "outputs": [],
   "source": [
    "le = LabelEncoder()"
   ]
  },
  {
   "cell_type": "code",
   "execution_count": 36,
   "id": "6658093c",
   "metadata": {},
   "outputs": [],
   "source": [
    "X[:, 0] = le.fit_transform(X[:, 0])"
   ]
  },
  {
   "cell_type": "code",
   "execution_count": 37,
   "id": "b398ee4d",
   "metadata": {},
   "outputs": [
    {
     "name": "stdout",
     "output_type": "stream",
     "text": [
      "[[1 7.0 0.27 ... 3.0 0.45 8.8]\n",
      " [1 6.3 0.3 ... 3.3 0.49 9.5]\n",
      " [1 8.1 0.28 ... 3.26 0.44 10.1]\n",
      " ...\n",
      " [0 6.3 0.51 ... 3.42 0.75 11.0]\n",
      " [0 5.9 0.645 ... 3.57 0.71 10.2]\n",
      " [0 6.0 0.31 ... 3.39 0.66 11.0]]\n"
     ]
    }
   ],
   "source": [
    "print(X)"
   ]
  },
  {
   "cell_type": "markdown",
   "id": "63179f5e",
   "metadata": {},
   "source": [
    "##### per our standard we are going to give a 0 for quality <= 6 and 1 for a quality >= 7; 0 for bad wine, 1 for good wine "
   ]
  },
  {
   "cell_type": "code",
   "execution_count": 38,
   "id": "d2a90b71",
   "metadata": {},
   "outputs": [],
   "source": [
    "sc = StandardScaler()"
   ]
  },
  {
   "cell_type": "code",
   "execution_count": 39,
   "id": "551e6732",
   "metadata": {},
   "outputs": [],
   "source": [
    "from sklearn.model_selection import train_test_split"
   ]
  },
  {
   "cell_type": "code",
   "execution_count": 40,
   "id": "2ca47638",
   "metadata": {},
   "outputs": [],
   "source": [
    "X_train, X_test, y_train, y_test = train_test_split(X, y, test_size=0.33, random_state=42)"
   ]
  },
  {
   "cell_type": "markdown",
   "id": "20eb1278",
   "metadata": {},
   "source": [
    "###### lets create our ann"
   ]
  },
  {
   "cell_type": "code",
   "execution_count": 41,
   "id": "2a031d27",
   "metadata": {},
   "outputs": [],
   "source": [
    "X_train = sc.fit_transform(X_train)\n",
    "X_test = sc.transform(X_test)"
   ]
  },
  {
   "cell_type": "code",
   "execution_count": 47,
   "id": "fef2c53a",
   "metadata": {},
   "outputs": [],
   "source": [
    "model_1 = tf.keras.models.Sequential()"
   ]
  },
  {
   "cell_type": "code",
   "execution_count": 48,
   "id": "5dd7b290",
   "metadata": {},
   "outputs": [],
   "source": [
    "model_1.add(tf.keras.layers.Dense(units= 6, activation = \"relu\"))"
   ]
  },
  {
   "cell_type": "code",
   "execution_count": 49,
   "id": "60f63b3a",
   "metadata": {},
   "outputs": [],
   "source": [
    "model_1.add(tf.keras.layers.Dense(units= 6, activation = \"relu\"))"
   ]
  },
  {
   "cell_type": "code",
   "execution_count": 50,
   "id": "fd0c9264",
   "metadata": {},
   "outputs": [],
   "source": [
    "model_1.add(tf.keras.layers.Dense(units= 1, activation = \"sigmoid\"))"
   ]
  },
  {
   "cell_type": "markdown",
   "id": "3e885fde",
   "metadata": {},
   "source": [
    "###### now let us compile our layers all the connected layers"
   ]
  },
  {
   "cell_type": "code",
   "execution_count": 51,
   "id": "0cc2f494",
   "metadata": {},
   "outputs": [],
   "source": [
    "model_1.compile(optimizer=\"adam\", loss= \"binary_crossentropy\", metrics = [\"accuracy\"])"
   ]
  },
  {
   "cell_type": "markdown",
   "id": "0945f4de",
   "metadata": {},
   "source": [
    "##### fitting our model"
   ]
  },
  {
   "cell_type": "code",
   "execution_count": 52,
   "id": "028703f9",
   "metadata": {},
   "outputs": [
    {
     "name": "stdout",
     "output_type": "stream",
     "text": [
      "Epoch 1/100\n",
      "136/136 [==============================] - 7s 3ms/step - loss: 0.5862 - accuracy: 0.7963\n",
      "Epoch 2/100\n",
      "136/136 [==============================] - 0s 2ms/step - loss: 0.2764 - accuracy: 0.9977\n",
      "Epoch 3/100\n",
      "136/136 [==============================] - 0s 2ms/step - loss: 0.0981 - accuracy: 1.0000\n",
      "Epoch 4/100\n",
      "136/136 [==============================] - 0s 2ms/step - loss: 0.0364 - accuracy: 1.0000\n",
      "Epoch 5/100\n",
      "136/136 [==============================] - 0s 2ms/step - loss: 0.0170 - accuracy: 1.0000\n",
      "Epoch 6/100\n",
      "136/136 [==============================] - 0s 2ms/step - loss: 0.0094 - accuracy: 1.0000\n",
      "Epoch 7/100\n",
      "136/136 [==============================] - 0s 2ms/step - loss: 0.0059 - accuracy: 1.0000\n",
      "Epoch 8/100\n",
      "136/136 [==============================] - 0s 2ms/step - loss: 0.0040 - accuracy: 1.0000\n",
      "Epoch 9/100\n",
      "136/136 [==============================] - 0s 2ms/step - loss: 0.0028 - accuracy: 1.0000\n",
      "Epoch 10/100\n",
      "136/136 [==============================] - 0s 2ms/step - loss: 0.0021 - accuracy: 1.0000\n",
      "Epoch 11/100\n",
      "136/136 [==============================] - 0s 2ms/step - loss: 0.0017 - accuracy: 1.0000\n",
      "Epoch 12/100\n",
      "136/136 [==============================] - 0s 2ms/step - loss: 0.0013 - accuracy: 1.0000\n",
      "Epoch 13/100\n",
      "136/136 [==============================] - 0s 2ms/step - loss: 0.0011 - accuracy: 1.0000\n",
      "Epoch 14/100\n",
      "136/136 [==============================] - 0s 2ms/step - loss: 8.7433e-04 - accuracy: 1.0000\n",
      "Epoch 15/100\n",
      "136/136 [==============================] - 0s 2ms/step - loss: 7.2931e-04 - accuracy: 1.0000\n",
      "Epoch 16/100\n",
      "136/136 [==============================] - 0s 2ms/step - loss: 6.1597e-04 - accuracy: 1.0000\n",
      "Epoch 17/100\n",
      "136/136 [==============================] - 0s 2ms/step - loss: 5.2506e-04 - accuracy: 1.0000\n",
      "Epoch 18/100\n",
      "136/136 [==============================] - 0s 2ms/step - loss: 4.5138e-04 - accuracy: 1.0000\n",
      "Epoch 19/100\n",
      "136/136 [==============================] - 0s 2ms/step - loss: 3.9091e-04 - accuracy: 1.0000\n",
      "Epoch 20/100\n",
      "136/136 [==============================] - 0s 2ms/step - loss: 3.4071e-04 - accuracy: 1.0000\n",
      "Epoch 21/100\n",
      "136/136 [==============================] - 0s 2ms/step - loss: 2.9847e-04 - accuracy: 1.0000\n",
      "Epoch 22/100\n",
      "136/136 [==============================] - 0s 2ms/step - loss: 2.6273e-04 - accuracy: 1.0000\n",
      "Epoch 23/100\n",
      "136/136 [==============================] - 0s 2ms/step - loss: 2.3249e-04 - accuracy: 1.0000\n",
      "Epoch 24/100\n",
      "136/136 [==============================] - 0s 2ms/step - loss: 2.0646e-04 - accuracy: 1.0000\n",
      "Epoch 25/100\n",
      "136/136 [==============================] - 0s 2ms/step - loss: 1.8391e-04 - accuracy: 1.0000\n",
      "Epoch 26/100\n",
      "136/136 [==============================] - 0s 2ms/step - loss: 1.6422e-04 - accuracy: 1.0000\n",
      "Epoch 27/100\n",
      "136/136 [==============================] - 0s 2ms/step - loss: 1.4716e-04 - accuracy: 1.0000\n",
      "Epoch 28/100\n",
      "136/136 [==============================] - 0s 2ms/step - loss: 1.3218e-04 - accuracy: 1.0000\n",
      "Epoch 29/100\n",
      "136/136 [==============================] - 0s 2ms/step - loss: 1.1884e-04 - accuracy: 1.0000\n",
      "Epoch 30/100\n",
      "136/136 [==============================] - 0s 2ms/step - loss: 1.0710e-04 - accuracy: 1.0000\n",
      "Epoch 31/100\n",
      "136/136 [==============================] - 0s 2ms/step - loss: 9.6799e-05 - accuracy: 1.0000\n",
      "Epoch 32/100\n",
      "136/136 [==============================] - 0s 2ms/step - loss: 8.7571e-05 - accuracy: 1.0000\n",
      "Epoch 33/100\n",
      "136/136 [==============================] - 0s 2ms/step - loss: 7.9412e-05 - accuracy: 1.0000\n",
      "Epoch 34/100\n",
      "136/136 [==============================] - 0s 2ms/step - loss: 7.2123e-05 - accuracy: 1.0000\n",
      "Epoch 35/100\n",
      "136/136 [==============================] - 0s 2ms/step - loss: 6.5571e-05 - accuracy: 1.0000\n",
      "Epoch 36/100\n",
      "136/136 [==============================] - 0s 2ms/step - loss: 5.9717e-05 - accuracy: 1.0000\n",
      "Epoch 37/100\n",
      "136/136 [==============================] - 0s 2ms/step - loss: 5.4391e-05 - accuracy: 1.0000\n",
      "Epoch 38/100\n",
      "136/136 [==============================] - 0s 2ms/step - loss: 4.9639e-05 - accuracy: 1.0000\n",
      "Epoch 39/100\n",
      "136/136 [==============================] - 0s 2ms/step - loss: 4.5345e-05 - accuracy: 1.0000\n",
      "Epoch 40/100\n",
      "136/136 [==============================] - 0s 1ms/step - loss: 4.1444e-05 - accuracy: 1.0000\n",
      "Epoch 41/100\n",
      "136/136 [==============================] - 0s 2ms/step - loss: 3.7936e-05 - accuracy: 1.0000\n",
      "Epoch 42/100\n",
      "136/136 [==============================] - 0s 2ms/step - loss: 3.4737e-05 - accuracy: 1.0000\n",
      "Epoch 43/100\n",
      "136/136 [==============================] - 0s 2ms/step - loss: 3.1837e-05 - accuracy: 1.0000\n",
      "Epoch 44/100\n",
      "136/136 [==============================] - 0s 2ms/step - loss: 2.9188e-05 - accuracy: 1.0000\n",
      "Epoch 45/100\n",
      "136/136 [==============================] - 0s 2ms/step - loss: 2.6733e-05 - accuracy: 1.0000\n",
      "Epoch 46/100\n",
      "136/136 [==============================] - 0s 2ms/step - loss: 2.4529e-05 - accuracy: 1.0000\n",
      "Epoch 47/100\n",
      "136/136 [==============================] - 0s 2ms/step - loss: 2.2511e-05 - accuracy: 1.0000\n",
      "Epoch 48/100\n",
      "136/136 [==============================] - 0s 2ms/step - loss: 2.0683e-05 - accuracy: 1.0000\n",
      "Epoch 49/100\n",
      "136/136 [==============================] - 0s 2ms/step - loss: 1.9009e-05 - accuracy: 1.0000\n",
      "Epoch 50/100\n",
      "136/136 [==============================] - 0s 2ms/step - loss: 1.7483e-05 - accuracy: 1.0000\n",
      "Epoch 51/100\n",
      "136/136 [==============================] - 0s 2ms/step - loss: 1.6087e-05 - accuracy: 1.0000\n",
      "Epoch 52/100\n",
      "136/136 [==============================] - 0s 2ms/step - loss: 1.4800e-05 - accuracy: 1.0000\n",
      "Epoch 53/100\n",
      "136/136 [==============================] - 0s 2ms/step - loss: 1.3630e-05 - accuracy: 1.0000\n",
      "Epoch 54/100\n",
      "136/136 [==============================] - 0s 1ms/step - loss: 1.2557e-05 - accuracy: 1.0000\n",
      "Epoch 55/100\n",
      "136/136 [==============================] - 0s 2ms/step - loss: 1.1566e-05 - accuracy: 1.0000\n",
      "Epoch 56/100\n",
      "136/136 [==============================] - 0s 2ms/step - loss: 1.0663e-05 - accuracy: 1.0000\n",
      "Epoch 57/100\n",
      "136/136 [==============================] - 0s 2ms/step - loss: 9.8325e-06 - accuracy: 1.0000\n",
      "Epoch 58/100\n",
      "136/136 [==============================] - 0s 2ms/step - loss: 9.0684e-06 - accuracy: 1.0000\n",
      "Epoch 59/100\n",
      "136/136 [==============================] - 0s 2ms/step - loss: 8.3655e-06 - accuracy: 1.0000\n",
      "Epoch 60/100\n",
      "136/136 [==============================] - 0s 2ms/step - loss: 7.7155e-06 - accuracy: 1.0000\n",
      "Epoch 61/100\n",
      "136/136 [==============================] - 0s 2ms/step - loss: 7.1184e-06 - accuracy: 1.0000\n",
      "Epoch 62/100\n",
      "136/136 [==============================] - 0s 2ms/step - loss: 6.5662e-06 - accuracy: 1.0000\n",
      "Epoch 63/100\n",
      "136/136 [==============================] - 0s 2ms/step - loss: 6.0603e-06 - accuracy: 1.0000\n",
      "Epoch 64/100\n",
      "136/136 [==============================] - 0s 2ms/step - loss: 5.5960e-06 - accuracy: 1.0000\n",
      "Epoch 65/100\n",
      "136/136 [==============================] - 0s 2ms/step - loss: 5.1681e-06 - accuracy: 1.0000\n",
      "Epoch 66/100\n",
      "136/136 [==============================] - 0s 2ms/step - loss: 4.7722e-06 - accuracy: 1.0000\n",
      "Epoch 67/100\n",
      "136/136 [==============================] - 0s 2ms/step - loss: 4.4072e-06 - accuracy: 1.0000\n",
      "Epoch 68/100\n",
      "136/136 [==============================] - 0s 2ms/step - loss: 4.0722e-06 - accuracy: 1.0000\n",
      "Epoch 69/100\n",
      "136/136 [==============================] - 0s 2ms/step - loss: 3.7628e-06 - accuracy: 1.0000\n",
      "Epoch 70/100\n",
      "136/136 [==============================] - 0s 3ms/step - loss: 3.4771e-06 - accuracy: 1.0000\n",
      "Epoch 71/100\n",
      "136/136 [==============================] - 0s 2ms/step - loss: 3.2102e-06 - accuracy: 1.0000\n",
      "Epoch 72/100\n",
      "136/136 [==============================] - 0s 2ms/step - loss: 2.9645e-06 - accuracy: 1.0000\n",
      "Epoch 73/100\n",
      "136/136 [==============================] - 0s 2ms/step - loss: 2.7389e-06 - accuracy: 1.0000\n",
      "Epoch 74/100\n",
      "136/136 [==============================] - 0s 2ms/step - loss: 2.5320e-06 - accuracy: 1.0000\n",
      "Epoch 75/100\n",
      "136/136 [==============================] - 0s 2ms/step - loss: 2.3413e-06 - accuracy: 1.0000\n",
      "Epoch 76/100\n",
      "136/136 [==============================] - 0s 2ms/step - loss: 2.1641e-06 - accuracy: 1.0000\n",
      "Epoch 77/100\n",
      "136/136 [==============================] - 0s 2ms/step - loss: 2.0015e-06 - accuracy: 1.0000\n",
      "Epoch 78/100\n"
     ]
    },
    {
     "name": "stdout",
     "output_type": "stream",
     "text": [
      "136/136 [==============================] - 0s 2ms/step - loss: 1.8504e-06 - accuracy: 1.0000\n",
      "Epoch 79/100\n",
      "136/136 [==============================] - 0s 2ms/step - loss: 1.7128e-06 - accuracy: 1.0000\n",
      "Epoch 80/100\n",
      "136/136 [==============================] - 0s 2ms/step - loss: 1.5839e-06 - accuracy: 1.0000\n",
      "Epoch 81/100\n",
      "136/136 [==============================] - 0s 2ms/step - loss: 1.4658e-06 - accuracy: 1.0000\n",
      "Epoch 82/100\n",
      "136/136 [==============================] - 0s 2ms/step - loss: 1.3563e-06 - accuracy: 1.0000\n",
      "Epoch 83/100\n",
      "136/136 [==============================] - 0s 2ms/step - loss: 1.2534e-06 - accuracy: 1.0000\n",
      "Epoch 84/100\n",
      "136/136 [==============================] - 0s 2ms/step - loss: 1.1599e-06 - accuracy: 1.0000\n",
      "Epoch 85/100\n",
      "136/136 [==============================] - 0s 2ms/step - loss: 1.0738e-06 - accuracy: 1.0000\n",
      "Epoch 86/100\n",
      "136/136 [==============================] - 0s 2ms/step - loss: 9.9384e-07 - accuracy: 1.0000\n",
      "Epoch 87/100\n",
      "136/136 [==============================] - 0s 2ms/step - loss: 9.1994e-07 - accuracy: 1.0000\n",
      "Epoch 88/100\n",
      "136/136 [==============================] - 0s 2ms/step - loss: 8.5153e-07 - accuracy: 1.0000\n",
      "Epoch 89/100\n",
      "136/136 [==============================] - 0s 2ms/step - loss: 7.8733e-07 - accuracy: 1.0000\n",
      "Epoch 90/100\n",
      "136/136 [==============================] - 0s 2ms/step - loss: 7.2894e-07 - accuracy: 1.0000\n",
      "Epoch 91/100\n",
      "136/136 [==============================] - 0s 2ms/step - loss: 6.7518e-07 - accuracy: 1.0000\n",
      "Epoch 92/100\n",
      "136/136 [==============================] - 0s 2ms/step - loss: 6.2500e-07 - accuracy: 1.0000\n",
      "Epoch 93/100\n",
      "136/136 [==============================] - 0s 2ms/step - loss: 5.7895e-07 - accuracy: 1.0000\n",
      "Epoch 94/100\n",
      "136/136 [==============================] - 0s 2ms/step - loss: 5.3598e-07 - accuracy: 1.0000\n",
      "Epoch 95/100\n",
      "136/136 [==============================] - 0s 2ms/step - loss: 4.9631e-07 - accuracy: 1.0000\n",
      "Epoch 96/100\n",
      "136/136 [==============================] - 0s 2ms/step - loss: 4.5961e-07 - accuracy: 1.0000\n",
      "Epoch 97/100\n",
      "136/136 [==============================] - 0s 2ms/step - loss: 4.2537e-07 - accuracy: 1.0000\n",
      "Epoch 98/100\n",
      "136/136 [==============================] - 0s 2ms/step - loss: 3.9385e-07 - accuracy: 1.0000\n",
      "Epoch 99/100\n",
      "136/136 [==============================] - 0s 2ms/step - loss: 3.6490e-07 - accuracy: 1.0000\n",
      "Epoch 100/100\n",
      "136/136 [==============================] - 0s 2ms/step - loss: 3.3819e-07 - accuracy: 1.0000\n"
     ]
    }
   ],
   "source": [
    "history = model_1.fit(X_train, y_train, batch_size=32, epochs = 100)"
   ]
  },
  {
   "cell_type": "code",
   "execution_count": 53,
   "id": "6331a5f8",
   "metadata": {},
   "outputs": [
    {
     "name": "stdout",
     "output_type": "stream",
     "text": [
      "136/136 [==============================] - 0s 1ms/step - loss: 3.2472e-07 - accuracy: 1.0000\n"
     ]
    },
    {
     "data": {
      "text/plain": [
       "[3.2471575650561135e-07, 1.0]"
      ]
     },
     "execution_count": 53,
     "metadata": {},
     "output_type": "execute_result"
    }
   ],
   "source": [
    "model_1.evaluate(X_train, y_train)"
   ]
  },
  {
   "cell_type": "code",
   "execution_count": 56,
   "id": "ef483a37",
   "metadata": {},
   "outputs": [
    {
     "data": {
      "text/plain": [
       "Text(0.5, 1.0, 'Model 1 loss curve')"
      ]
     },
     "execution_count": 56,
     "metadata": {},
     "output_type": "execute_result"
    },
    {
     "data": {
      "image/png": "[encoded data removed]",
      "text/plain": [
       "<Figure size 640x480 with 1 Axes>"
      ]
     },
     "metadata": {},
     "output_type": "display_data"
    }
   ],
   "source": [
    "pd.DataFrame(history.history).plot()\n",
    "plt.title(\"Model 1 loss curve\")"
   ]
  },
  {
   "cell_type": "code",
   "execution_count": 57,
   "id": "6e979faa",
   "metadata": {},
   "outputs": [
    {
     "name": "stdout",
     "output_type": "stream",
     "text": [
      "67/67 [==============================] - 0s 912us/step\n"
     ]
    }
   ],
   "source": [
    "y_pred = model_1.predict(X_test)"
   ]
  },
  {
   "cell_type": "code",
   "execution_count": 58,
   "id": "6995373c",
   "metadata": {},
   "outputs": [],
   "source": [
    "y_pred = (y_pred > 0.5)"
   ]
  },
  {
   "cell_type": "code",
   "execution_count": 59,
   "id": "8ed3e5e8",
   "metadata": {},
   "outputs": [
    {
     "data": {
      "text/plain": [
       "array([[False],\n",
       "       [False],\n",
       "       [False],\n",
       "       ...,\n",
       "       [False],\n",
       "       [False],\n",
       "       [False]])"
      ]
     },
     "execution_count": 59,
     "metadata": {},
     "output_type": "execute_result"
    }
   ],
   "source": [
    "y_pred"
   ]
  },
  {
   "cell_type": "code",
   "execution_count": 60,
   "id": "f82c0850",
   "metadata": {},
   "outputs": [],
   "source": [
    "from sklearn.metrics import confusion_matrix, accuracy_score"
   ]
  },
  {
   "cell_type": "code",
   "execution_count": 61,
   "id": "42c3401b",
   "metadata": {},
   "outputs": [],
   "source": [
    "cm = confusion_matrix(y_test, y_pred)"
   ]
  },
  {
   "cell_type": "code",
   "execution_count": 62,
   "id": "d2cd201e",
   "metadata": {},
   "outputs": [
    {
     "name": "stdout",
     "output_type": "stream",
     "text": [
      "[[2133]]\n"
     ]
    }
   ],
   "source": [
    "print(cm)"
   ]
  },
  {
   "cell_type": "code",
   "execution_count": 63,
   "id": "0c9fcc7c",
   "metadata": {},
   "outputs": [],
   "source": [
    "ac = accuracy_score(y_test, y_pred)"
   ]
  },
  {
   "cell_type": "code",
   "execution_count": 64,
   "id": "6a7502e5",
   "metadata": {},
   "outputs": [
    {
     "data": {
      "text/plain": [
       "1.0"
      ]
     },
     "execution_count": 64,
     "metadata": {},
     "output_type": "execute_result"
    }
   ],
   "source": [
    "ac"
   ]
  },
  {
   "cell_type": "code",
   "execution_count": null,
   "id": "7c578cb0",
   "metadata": {},
   "outputs": [],
   "source": []
  },
  {
   "cell_type": "code",
   "execution_count": 81,
   "id": "0a91068a",
   "metadata": {},
   "outputs": [
    {
     "name": "stdout",
     "output_type": "stream",
     "text": [
      "1/1 [==============================] - 0s 28ms/step\n",
      "[[False]]\n"
     ]
    }
   ],
   "source": [
    "print(model_1.predict(sc.transform([[0, 6.3, 0.48, 0.04, 1.1, 0.046, 30, 99, 0.9928, 3.24, 0.36, 9.6]])) > 0.5)"
   ]
  },
  {
   "cell_type": "code",
   "execution_count": 68,
   "id": "0c162bf5",
   "metadata": {},
   "outputs": [],
   "source": [
    "model_2 = tf.keras.models.Sequential()\n",
    "model_2.add(tf.keras.layers.Dense(units= 4, activation = \"relu\"))\n",
    "model_2.add(tf.keras.layers.Dense(units= 1, activation = \"sigmoid\"))"
   ]
  },
  {
   "cell_type": "code",
   "execution_count": 69,
   "id": "3a243767",
   "metadata": {},
   "outputs": [],
   "source": [
    "model_2.compile(optimizer=\"adam\", loss= \"binary_crossentropy\", metrics = [\"accuracy\"])"
   ]
  },
  {
   "cell_type": "code",
   "execution_count": 70,
   "id": "73339db2",
   "metadata": {},
   "outputs": [
    {
     "name": "stdout",
     "output_type": "stream",
     "text": [
      "Epoch 1/50\n",
      "136/136 [==============================] - 1s 1ms/step - loss: 0.4252 - accuracy: 0.8575\n",
      "Epoch 2/50\n",
      "136/136 [==============================] - 0s 1ms/step - loss: 0.2266 - accuracy: 0.9852\n",
      "Epoch 3/50\n",
      "136/136 [==============================] - 0s 1ms/step - loss: 0.1270 - accuracy: 0.9995\n",
      "Epoch 4/50\n",
      "136/136 [==============================] - 0s 1ms/step - loss: 0.0765 - accuracy: 0.9998\n",
      "Epoch 5/50\n",
      "136/136 [==============================] - 0s 1ms/step - loss: 0.0488 - accuracy: 1.0000\n",
      "Epoch 6/50\n",
      "136/136 [==============================] - 0s 1ms/step - loss: 0.0328 - accuracy: 1.0000\n",
      "Epoch 7/50\n",
      "136/136 [==============================] - 0s 1ms/step - loss: 0.0231 - accuracy: 1.0000\n",
      "Epoch 8/50\n",
      "136/136 [==============================] - 0s 1ms/step - loss: 0.0169 - accuracy: 1.0000\n",
      "Epoch 9/50\n",
      "136/136 [==============================] - 0s 1ms/step - loss: 0.0128 - accuracy: 1.0000\n",
      "Epoch 10/50\n",
      "136/136 [==============================] - 0s 1ms/step - loss: 0.0099 - accuracy: 1.0000\n",
      "Epoch 11/50\n",
      "136/136 [==============================] - 0s 2ms/step - loss: 0.0078 - accuracy: 1.0000\n",
      "Epoch 12/50\n",
      "136/136 [==============================] - 0s 1ms/step - loss: 0.0063 - accuracy: 1.0000\n",
      "Epoch 13/50\n",
      "136/136 [==============================] - 0s 2ms/step - loss: 0.0052 - accuracy: 1.0000\n",
      "Epoch 14/50\n",
      "136/136 [==============================] - 0s 1ms/step - loss: 0.0043 - accuracy: 1.0000\n",
      "Epoch 15/50\n",
      "136/136 [==============================] - 0s 2ms/step - loss: 0.0036 - accuracy: 1.0000\n",
      "Epoch 16/50\n",
      "136/136 [==============================] - 0s 2ms/step - loss: 0.0031 - accuracy: 1.0000\n",
      "Epoch 17/50\n",
      "136/136 [==============================] - 0s 1ms/step - loss: 0.0027 - accuracy: 1.0000\n",
      "Epoch 18/50\n",
      "136/136 [==============================] - 0s 1ms/step - loss: 0.0023 - accuracy: 1.0000\n",
      "Epoch 19/50\n",
      "136/136 [==============================] - 0s 1ms/step - loss: 0.0020 - accuracy: 1.0000\n",
      "Epoch 20/50\n",
      "136/136 [==============================] - 0s 1ms/step - loss: 0.0018 - accuracy: 1.0000\n",
      "Epoch 21/50\n",
      "136/136 [==============================] - 0s 1ms/step - loss: 0.0016 - accuracy: 1.0000\n",
      "Epoch 22/50\n",
      "136/136 [==============================] - 0s 2ms/step - loss: 0.0014 - accuracy: 1.0000\n",
      "Epoch 23/50\n",
      "136/136 [==============================] - 0s 1ms/step - loss: 0.0012 - accuracy: 1.0000\n",
      "Epoch 24/50\n",
      "136/136 [==============================] - 0s 2ms/step - loss: 0.0011 - accuracy: 1.0000\n",
      "Epoch 25/50\n",
      "136/136 [==============================] - 0s 1ms/step - loss: 9.6734e-04 - accuracy: 1.0000\n",
      "Epoch 26/50\n",
      "136/136 [==============================] - 0s 1ms/step - loss: 8.6772e-04 - accuracy: 1.0000\n",
      "Epoch 27/50\n",
      "136/136 [==============================] - 0s 1ms/step - loss: 7.7994e-04 - accuracy: 1.0000\n",
      "Epoch 28/50\n",
      "136/136 [==============================] - 0s 1ms/step - loss: 7.0233e-04 - accuracy: 1.0000\n",
      "Epoch 29/50\n",
      "136/136 [==============================] - 0s 1ms/step - loss: 6.3397e-04 - accuracy: 1.0000\n",
      "Epoch 30/50\n",
      "136/136 [==============================] - 0s 1ms/step - loss: 5.7341e-04 - accuracy: 1.0000\n",
      "Epoch 31/50\n",
      "136/136 [==============================] - 0s 1ms/step - loss: 5.1939e-04 - accuracy: 1.0000\n",
      "Epoch 32/50\n",
      "136/136 [==============================] - 0s 1ms/step - loss: 4.7087e-04 - accuracy: 1.0000\n",
      "Epoch 33/50\n",
      "136/136 [==============================] - 0s 1ms/step - loss: 4.2803e-04 - accuracy: 1.0000\n",
      "Epoch 34/50\n",
      "136/136 [==============================] - 0s 1ms/step - loss: 3.8954e-04 - accuracy: 1.0000\n",
      "Epoch 35/50\n",
      "136/136 [==============================] - 0s 1ms/step - loss: 3.5492e-04 - accuracy: 1.0000\n",
      "Epoch 36/50\n",
      "136/136 [==============================] - 0s 1ms/step - loss: 3.2379e-04 - accuracy: 1.0000\n",
      "Epoch 37/50\n",
      "136/136 [==============================] - 0s 2ms/step - loss: 2.9533e-04 - accuracy: 1.0000\n",
      "Epoch 38/50\n",
      "136/136 [==============================] - 0s 1ms/step - loss: 2.6964e-04 - accuracy: 1.0000\n",
      "Epoch 39/50\n",
      "136/136 [==============================] - 0s 1ms/step - loss: 2.4670e-04 - accuracy: 1.0000\n",
      "Epoch 40/50\n",
      "136/136 [==============================] - 0s 1ms/step - loss: 2.2580e-04 - accuracy: 1.0000\n",
      "Epoch 41/50\n",
      "136/136 [==============================] - 0s 2ms/step - loss: 2.0658e-04 - accuracy: 1.0000\n",
      "Epoch 42/50\n",
      "136/136 [==============================] - 0s 2ms/step - loss: 1.8945e-04 - accuracy: 1.0000\n",
      "Epoch 43/50\n",
      "136/136 [==============================] - 0s 1ms/step - loss: 1.7386e-04 - accuracy: 1.0000\n",
      "Epoch 44/50\n",
      "136/136 [==============================] - 0s 2ms/step - loss: 1.5963e-04 - accuracy: 1.0000\n",
      "Epoch 45/50\n",
      "136/136 [==============================] - 0s 1ms/step - loss: 1.4664e-04 - accuracy: 1.0000\n",
      "Epoch 46/50\n",
      "136/136 [==============================] - 0s 1ms/step - loss: 1.3478e-04 - accuracy: 1.0000\n",
      "Epoch 47/50\n",
      "136/136 [==============================] - 0s 2ms/step - loss: 1.2396e-04 - accuracy: 1.0000\n",
      "Epoch 48/50\n",
      "136/136 [==============================] - 0s 1ms/step - loss: 1.1411e-04 - accuracy: 1.0000\n",
      "Epoch 49/50\n",
      "136/136 [==============================] - 0s 1ms/step - loss: 1.0506e-04 - accuracy: 1.0000\n",
      "Epoch 50/50\n",
      "136/136 [==============================] - 0s 2ms/step - loss: 9.6853e-05 - accuracy: 1.0000\n"
     ]
    }
   ],
   "source": [
    "history2 = model_2.fit(X_train, y_train, epochs = 50)"
   ]
  },
  {
   "cell_type": "code",
   "execution_count": null,
   "id": "198b5c7b",
   "metadata": {},
   "outputs": [],
   "source": []
  }
 ],
 "metadata": {
  "kernelspec": {
   "display_name": "Python 3 (ipykernel)",
   "language": "python",
   "name": "python3"
  },
  "language_info": {
   "codemirror_mode": {
    "name": "ipython",
    "version": 3
   },
   "file_extension": ".py",
   "mimetype": "text/x-python",
   "name": "python",
   "nbconvert_exporter": "python",
   "pygments_lexer": "ipython3",
   "version": "3.9.13"
  }
 },
 "nbformat": 4,
 "nbformat_minor": 5
}
